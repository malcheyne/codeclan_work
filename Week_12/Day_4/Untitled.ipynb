{
 "cells": [
  {
   "cell_type": "code",
   "execution_count": null,
   "id": "1941d6ff",
   "metadata": {},
   "outputs": [],
   "source": []
  },
  {
   "cell_type": "code",
   "execution_count": null,
   "id": "a218ed6c",
   "metadata": {},
   "outputs": [],
   "source": [
    "songs_clean = songs.drop(columns = \\\n",
    "                         [\"Unnamed: 0\", \"song_title\", \"artist\"])"
   ]
  },
  {
   "cell_type": "code",
   "execution_count": 1,
   "id": "f3b08ac7",
   "metadata": {},
   "outputs": [
    {
     "ename": "NameError",
     "evalue": "name 'songd_clean' is not defined",
     "output_type": "error",
     "traceback": [
      "\u001b[1;31m---------------------------------------------------------------------------\u001b[0m",
      "\u001b[1;31mNameError\u001b[0m                                 Traceback (most recent call last)",
      "\u001b[1;32m<ipython-input-1-b02ce10bf6d0>\u001b[0m in \u001b[0;36m<module>\u001b[1;34m\u001b[0m\n\u001b[1;32m----> 1\u001b[1;33m \u001b[0msongd_clean\u001b[0m\u001b[1;33m.\u001b[0m\u001b[0mdescribe\u001b[0m\u001b[1;33m(\u001b[0m\u001b[1;33m)\u001b[0m\u001b[1;33m\u001b[0m\u001b[1;33m\u001b[0m\u001b[0m\n\u001b[0m",
      "\u001b[1;31mNameError\u001b[0m: name 'songd_clean' is not defined"
     ]
    }
   ],
   "source": [
    "songs_clean.describe()"
   ]
  },
  {
   "cell_type": "code",
   "execution_count": null,
   "id": "30032863",
   "metadata": {},
   "outputs": [],
   "source": []
  },
  {
   "cell_type": "code",
   "execution_count": null,
   "id": "b8d7cc52",
   "metadata": {},
   "outputs": [],
   "source": []
  },
  {
   "cell_type": "code",
   "execution_count": null,
   "id": "7010409c",
   "metadata": {},
   "outputs": [],
   "source": [
    "import numpy as np\n",
    "songs_num = songs_clean.select_dtypes(include=np.number)\n",
    "\n",
    "%matplotlib inline\n",
    "import matplotlib.pyplot as plt\n",
    "songs_num.drop(columns='Unnamed: 0').hist(bins = 50, figsize = (20, 10))\n",
    "plt.suptitle(\"Histograms\", fontsize = 25)"
   ]
  },
  {
   "cell_type": "code",
   "execution_count": null,
   "id": "2c052826",
   "metadata": {},
   "outputs": [],
   "source": [
    "songs_clean.dtypes"
   ]
  },
  {
   "cell_type": "code",
   "execution_count": null,
   "id": "9217c878",
   "metadata": {},
   "outputs": [],
   "source": []
  },
  {
   "cell_type": "code",
   "execution_count": null,
   "id": "e2851d28",
   "metadata": {},
   "outputs": [],
   "source": [
    "X = songs_clean.drop(colums='target').copy()\n",
    "y = songs_clean.target.copy()"
   ]
  },
  {
   "cell_type": "markdown",
   "id": "8e4d915d",
   "metadata": {},
   "source": [
    "# Test and Train Split"
   ]
  },
  {
   "cell_type": "code",
   "execution_count": null,
   "id": "10543da0",
   "metadata": {},
   "outputs": [],
   "source": [
    "\n",
    "\n",
    "from sklearn.model_selection import train_test_split\n",
    "\n",
    "songs_pred_train, songs_pred_test, songs_resp_train, songs_resp_test = (\n",
    "    train_test_split(\n",
    "        songs_predictors, \n",
    "        songs_response, \n",
    "        test_size = 0.1, \n",
    "        random_state = 42\n",
    "    )\n",
    ")"
   ]
  },
  {
   "cell_type": "markdown",
   "id": "5ea418fa",
   "metadata": {},
   "source": [
    "# Scaled data"
   ]
  },
  {
   "cell_type": "code",
   "execution_count": null,
   "id": "10be5b18",
   "metadata": {},
   "outputs": [],
   "source": [
    "from sklearn.preprocessing import StandardScaler\n",
    "\n",
    "ss = StandardScaler()\n",
    "songs_pred_train = ss.fit_transform(songs_pred_train)\n",
    "songs_pred_test = ss.transform(songs_pred_test)\n",
    "songs_pred_train"
   ]
  },
  {
   "cell_type": "code",
   "execution_count": null,
   "id": "11b35941",
   "metadata": {},
   "outputs": [],
   "source": [
    "from sklearn.linear_model import LogisticRegression\n",
    "from sklearn.model_selection import cross_val_score\n",
    "\n",
    "model = LogisticRegression()\n",
    "model.fit(songs_pred_train, songs_resp_train)\n",
    "scores = cross_val_score(\n",
    "    model, songs_pred_train, songs_resp_train, scoring='accuracy', cv=10\n",
    ")\n",
    "scores"
   ]
  },
  {
   "cell_type": "code",
   "execution_count": null,
   "id": "3fb4fa0e",
   "metadata": {},
   "outputs": [],
   "source": [
    "# Train Accuracy\n",
    "print(model.score(songs_pred_train, songs_resp_train))\n",
    "print(np.mean(scores))"
   ]
  },
  {
   "cell_type": "code",
   "execution_count": null,
   "id": "a2cdce2e",
   "metadata": {},
   "outputs": [],
   "source": [
    "# Test R Squared\n",
    "model.score(songs_pred_test, songs_resp_test)\n",
    "\n",
    "# score - R squared"
   ]
  },
  {
   "cell_type": "code",
   "execution_count": null,
   "id": "89d57407",
   "metadata": {},
   "outputs": [],
   "source": []
  },
  {
   "cell_type": "code",
   "execution_count": null,
   "id": "5dbd6822",
   "metadata": {},
   "outputs": [],
   "source": []
  },
  {
   "cell_type": "code",
   "execution_count": null,
   "id": "96b46bd4",
   "metadata": {},
   "outputs": [],
   "source": [
    "songs_clean.dtypes"
   ]
  },
  {
   "cell_type": "code",
   "execution_count": null,
   "id": "89fa0098",
   "metadata": {},
   "outputs": [],
   "source": [
    "songs_clean['mode'] = songs_clean['mode'].astype('category')"
   ]
  },
  {
   "cell_type": "code",
   "execution_count": null,
   "id": "186bd325",
   "metadata": {},
   "outputs": [],
   "source": [
    "songs_clean.dtypes"
   ]
  },
  {
   "cell_type": "code",
   "execution_count": null,
   "id": "1a8eeb01",
   "metadata": {},
   "outputs": [],
   "source": []
  },
  {
   "cell_type": "code",
   "execution_count": null,
   "id": "0e88d60d",
   "metadata": {},
   "outputs": [],
   "source": []
  },
  {
   "cell_type": "code",
   "execution_count": null,
   "id": "a680355c",
   "metadata": {},
   "outputs": [],
   "source": []
  },
  {
   "cell_type": "code",
   "execution_count": null,
   "id": "dee1a0a4",
   "metadata": {},
   "outputs": [],
   "source": [
    "(\n",
    "    songs_clean\n",
    ".select_dtypes(include.number)\n",
    ".astype('category')\n",
    ".dtypes\n",
    ")"
   ]
  },
  {
   "cell_type": "code",
   "execution_count": null,
   "id": "a4a126d3",
   "metadata": {},
   "outputs": [],
   "source": []
  }
 ],
 "metadata": {
  "kernelspec": {
   "display_name": "Python 3",
   "language": "python",
   "name": "python3"
  },
  "language_info": {
   "codemirror_mode": {
    "name": "ipython",
    "version": 3
   },
   "file_extension": ".py",
   "mimetype": "text/x-python",
   "name": "python",
   "nbconvert_exporter": "python",
   "pygments_lexer": "ipython3",
   "version": "3.8.8"
  },
  "varInspector": {
   "cols": {
    "lenName": 16,
    "lenType": 16,
    "lenVar": 40
   },
   "kernels_config": {
    "python": {
     "delete_cmd_postfix": "",
     "delete_cmd_prefix": "del ",
     "library": "var_list.py",
     "varRefreshCmd": "print(var_dic_list())"
    },
    "r": {
     "delete_cmd_postfix": ") ",
     "delete_cmd_prefix": "rm(",
     "library": "var_list.r",
     "varRefreshCmd": "cat(var_dic_list()) "
    }
   },
   "types_to_exclude": [
    "module",
    "function",
    "builtin_function_or_method",
    "instance",
    "_Feature"
   ],
   "window_display": false
  }
 },
 "nbformat": 4,
 "nbformat_minor": 5
}
