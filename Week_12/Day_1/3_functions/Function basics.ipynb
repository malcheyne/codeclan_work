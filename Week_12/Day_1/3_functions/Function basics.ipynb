{
 "cells": [
  {
   "cell_type": "markdown",
   "id": "847f50b7",
   "metadata": {},
   "source": [
    "# Function basics\n",
    "\n"
   ]
  },
  {
   "cell_type": "code",
   "execution_count": 1,
   "id": "88713753",
   "metadata": {},
   "outputs": [],
   "source": [
    "def greet():\n",
    "    print(\"Hey!\")"
   ]
  },
  {
   "cell_type": "code",
   "execution_count": 2,
   "id": "cd0894cd",
   "metadata": {},
   "outputs": [
    {
     "name": "stdout",
     "output_type": "stream",
     "text": [
      "Hey!\n"
     ]
    }
   ],
   "source": [
    "greet()"
   ]
  },
  {
   "cell_type": "markdown",
   "id": "a6189175",
   "metadata": {},
   "source": [
    "`def` is define"
   ]
  },
  {
   "cell_type": "code",
   "execution_count": 3,
   "id": "191f332d",
   "metadata": {},
   "outputs": [],
   "source": [
    "def greet():\n",
    "    return \"Hey\" # Modified"
   ]
  },
  {
   "cell_type": "code",
   "execution_count": 4,
   "id": "158be27e",
   "metadata": {},
   "outputs": [
    {
     "data": {
      "text/plain": [
       "'Hey'"
      ]
     },
     "execution_count": 4,
     "metadata": {},
     "output_type": "execute_result"
    }
   ],
   "source": [
    "greet()"
   ]
  },
  {
   "cell_type": "code",
   "execution_count": 5,
   "id": "65df135b",
   "metadata": {},
   "outputs": [
    {
     "name": "stdout",
     "output_type": "stream",
     "text": [
      "Hey\n"
     ]
    }
   ],
   "source": [
    "greeting = greet()\n",
    "print(greeting)"
   ]
  },
  {
   "cell_type": "code",
   "execution_count": 6,
   "id": "6babd3a7",
   "metadata": {},
   "outputs": [],
   "source": [
    "def greet(name):\n",
    "    return 'Hey ' + name"
   ]
  },
  {
   "cell_type": "code",
   "execution_count": 7,
   "id": "0cb14065",
   "metadata": {},
   "outputs": [
    {
     "name": "stdout",
     "output_type": "stream",
     "text": [
      "Hey David\n"
     ]
    }
   ],
   "source": [
    "greeting = greet('David')\n",
    "print(greeting)"
   ]
  },
  {
   "cell_type": "code",
   "execution_count": 8,
   "id": "c463bb57",
   "metadata": {},
   "outputs": [],
   "source": [
    "def greet(name, time_of_day):\n",
    "    return \"Good \" + time_of_day + \", \" + name"
   ]
  },
  {
   "cell_type": "code",
   "execution_count": 9,
   "id": "f88e0cb2",
   "metadata": {},
   "outputs": [
    {
     "name": "stdout",
     "output_type": "stream",
     "text": [
      "Good afternoon, David\n"
     ]
    }
   ],
   "source": [
    "greeting = greet('David', 'afternoon')\n",
    "print(greeting)"
   ]
  },
  {
   "cell_type": "markdown",
   "id": "8e6c0181",
   "metadata": {},
   "source": [
    "**Task**\n",
    "\n",
    "Define a function called calculate_mean, which takes in two parameters x and y, and returns the average of the two."
   ]
  },
  {
   "cell_type": "code",
   "execution_count": 10,
   "id": "295c73a8",
   "metadata": {},
   "outputs": [],
   "source": [
    "def calculate_mean(x, y):\n",
    "    return (x+y)/2"
   ]
  },
  {
   "cell_type": "code",
   "execution_count": 13,
   "id": "d6fa93e6",
   "metadata": {},
   "outputs": [
    {
     "data": {
      "text/plain": [
       "3.0"
      ]
     },
     "execution_count": 13,
     "metadata": {},
     "output_type": "execute_result"
    }
   ],
   "source": [
    "calculate_mean(2,4)"
   ]
  },
  {
   "cell_type": "code",
   "execution_count": 15,
   "id": "4a9f7786",
   "metadata": {},
   "outputs": [],
   "source": [
    "def is_even(number):\n",
    "    if(number % 2 == 0):\n",
    "        return True\n",
    "    else:\n",
    "        return False\n",
    "    \n",
    "def sum_of_even_numbers(numbers):\n",
    "    running_total = 0\n",
    "    for number in numbers:\n",
    "        if(is_even(number)):\n",
    "            running_total += number  # add the number then reasine that number \n",
    "    return running_total"
   ]
  },
  {
   "cell_type": "code",
   "execution_count": 23,
   "id": "4687fe9a",
   "metadata": {},
   "outputs": [
    {
     "data": {
      "text/plain": [
       "2"
      ]
     },
     "execution_count": 23,
     "metadata": {},
     "output_type": "execute_result"
    }
   ],
   "source": [
    "sum_of_even_numbers([2])"
   ]
  },
  {
   "cell_type": "code",
   "execution_count": 24,
   "id": "e9cce432",
   "metadata": {},
   "outputs": [
    {
     "data": {
      "text/plain": [
       "8"
      ]
     },
     "execution_count": 24,
     "metadata": {},
     "output_type": "execute_result"
    }
   ],
   "source": [
    "sum_of_even_numbers([2, 6])"
   ]
  },
  {
   "cell_type": "code",
   "execution_count": 25,
   "id": "5dea8322",
   "metadata": {},
   "outputs": [
    {
     "data": {
      "text/plain": [
       "8"
      ]
     },
     "execution_count": 25,
     "metadata": {},
     "output_type": "execute_result"
    }
   ],
   "source": [
    "sum_of_even_numbers([2, 5, 6])"
   ]
  },
  {
   "cell_type": "code",
   "execution_count": 18,
   "id": "9e28ed1e",
   "metadata": {},
   "outputs": [
    {
     "data": {
      "text/plain": [
       "9"
      ]
     },
     "execution_count": 18,
     "metadata": {},
     "output_type": "execute_result"
    }
   ],
   "source": [
    "def square(number):\n",
    "    return number * number\n",
    "\n",
    "def modify_number(number, modifier_function):\n",
    "    return modifier_function(number)\n",
    "\n",
    "modify_number(3, square)"
   ]
  },
  {
   "cell_type": "markdown",
   "id": "ef9fb7df",
   "metadata": {},
   "source": [
    "**Task**\n",
    "\n",
    "Write a function make_price() that takes as input any whole number, and returns it written as a price (i.e. with a '£' in front of the number). For example 5 would become £5, and 123 would become £123. Try out your function a few times to test that it works.\n",
    "Hint In an earlier example you saw that you can join Python strings using the + operator. i.e."
   ]
  },
  {
   "cell_type": "code",
   "execution_count": 30,
   "id": "d1459065",
   "metadata": {},
   "outputs": [],
   "source": [
    "def make_price(number):\n",
    "    return \"£\" + number"
   ]
  },
  {
   "cell_type": "code",
   "execution_count": 31,
   "id": "ea1f1215",
   "metadata": {},
   "outputs": [
    {
     "ename": "TypeError",
     "evalue": "can only concatenate str (not \"int\") to str",
     "output_type": "error",
     "traceback": [
      "\u001b[1;31m---------------------------------------------------------------------------\u001b[0m",
      "\u001b[1;31mTypeError\u001b[0m                                 Traceback (most recent call last)",
      "\u001b[1;32m<ipython-input-31-3a2ad9701c59>\u001b[0m in \u001b[0;36m<module>\u001b[1;34m\u001b[0m\n\u001b[1;32m----> 1\u001b[1;33m \u001b[0mmake_price\u001b[0m\u001b[1;33m(\u001b[0m\u001b[1;36m5\u001b[0m\u001b[1;33m)\u001b[0m\u001b[1;33m\u001b[0m\u001b[1;33m\u001b[0m\u001b[0m\n\u001b[0m",
      "\u001b[1;32m<ipython-input-30-f542150971e4>\u001b[0m in \u001b[0;36mmake_price\u001b[1;34m(number)\u001b[0m\n\u001b[0;32m      1\u001b[0m \u001b[1;32mdef\u001b[0m \u001b[0mmake_price\u001b[0m\u001b[1;33m(\u001b[0m\u001b[0mnumber\u001b[0m\u001b[1;33m)\u001b[0m\u001b[1;33m:\u001b[0m\u001b[1;33m\u001b[0m\u001b[1;33m\u001b[0m\u001b[0m\n\u001b[1;32m----> 2\u001b[1;33m     \u001b[1;32mreturn\u001b[0m \u001b[1;34m\"£\"\u001b[0m \u001b[1;33m+\u001b[0m \u001b[0mnumber\u001b[0m\u001b[1;33m\u001b[0m\u001b[1;33m\u001b[0m\u001b[0m\n\u001b[0m",
      "\u001b[1;31mTypeError\u001b[0m: can only concatenate str (not \"int\") to str"
     ]
    }
   ],
   "source": [
    "make_price(5)"
   ]
  },
  {
   "cell_type": "code",
   "execution_count": 32,
   "id": "5f6d9ad8",
   "metadata": {},
   "outputs": [],
   "source": [
    "def make_price(number):\n",
    "    return \"£\" + str(number)"
   ]
  },
  {
   "cell_type": "code",
   "execution_count": 33,
   "id": "4daca8ad",
   "metadata": {},
   "outputs": [
    {
     "data": {
      "text/plain": [
       "'£5'"
      ]
     },
     "execution_count": 33,
     "metadata": {},
     "output_type": "execute_result"
    }
   ],
   "source": [
    "make_price(5)"
   ]
  },
  {
   "cell_type": "code",
   "execution_count": null,
   "id": "ddd71c71",
   "metadata": {},
   "outputs": [],
   "source": []
  }
 ],
 "metadata": {
  "kernelspec": {
   "display_name": "Python 3",
   "language": "python",
   "name": "python3"
  },
  "language_info": {
   "codemirror_mode": {
    "name": "ipython",
    "version": 3
   },
   "file_extension": ".py",
   "mimetype": "text/x-python",
   "name": "python",
   "nbconvert_exporter": "python",
   "pygments_lexer": "ipython3",
   "version": "3.8.8"
  },
  "varInspector": {
   "cols": {
    "lenName": 16,
    "lenType": 16,
    "lenVar": 40
   },
   "kernels_config": {
    "python": {
     "delete_cmd_postfix": "",
     "delete_cmd_prefix": "del ",
     "library": "var_list.py",
     "varRefreshCmd": "print(var_dic_list())"
    },
    "r": {
     "delete_cmd_postfix": ") ",
     "delete_cmd_prefix": "rm(",
     "library": "var_list.r",
     "varRefreshCmd": "cat(var_dic_list()) "
    }
   },
   "types_to_exclude": [
    "module",
    "function",
    "builtin_function_or_method",
    "instance",
    "_Feature"
   ],
   "window_display": false
  }
 },
 "nbformat": 4,
 "nbformat_minor": 5
}
