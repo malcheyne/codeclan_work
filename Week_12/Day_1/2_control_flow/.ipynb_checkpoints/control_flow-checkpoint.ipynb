{
 "cells": [
  {
   "cell_type": "markdown",
   "id": "d4ba864d",
   "metadata": {},
   "source": [
    "# Control Flow\n",
    "\n",
    "## Leaning Objectives\n",
    "\n",
    "- Understand if/else control flow in Python\n",
    "- Understand For Loops\n",
    "- Understand List/Dict comprehensions\n",
    "\n",
    "## Control Flow\n",
    "\n",
    "**Python is indentation-sensitve!!**"
   ]
  },
  {
   "cell_type": "code",
   "execution_count": null,
   "id": "4e7e7adb",
   "metadata": {},
   "outputs": [],
   "source": [
    "# R code\n",
    "# not run\n",
    "if (temperature > 20){\n",
    "    print(\"Heatwave Warning\")\n",
    "}"
   ]
  },
  {
   "cell_type": "markdown",
   "id": "ce171c08",
   "metadata": {},
   "source": [
    "Heatwave Warning"
   ]
  },
  {
   "cell_type": "code",
   "execution_count": 1,
   "id": "2e0df1ff",
   "metadata": {},
   "outputs": [
    {
     "name": "stdout",
     "output_type": "stream",
     "text": [
      "Heatwave Warning\n"
     ]
    }
   ],
   "source": [
    "temperature = 21\n",
    "\n",
    "if temperature > 20:\n",
    "    print('Heatwave Warning')"
   ]
  },
  {
   "cell_type": "code",
   "execution_count": null,
   "id": "ecc39f12",
   "metadata": {},
   "outputs": [],
   "source": [
    "if condition;\n",
    "    do"
   ]
  },
  {
   "cell_type": "code",
   "execution_count": 2,
   "id": "92ae3453",
   "metadata": {},
   "outputs": [
    {
     "ename": "IndentationError",
     "evalue": "expected an indented block (<ipython-input-2-0bdb7ac058e9>, line 2)",
     "output_type": "error",
     "traceback": [
      "\u001b[1;36m  File \u001b[1;32m\"<ipython-input-2-0bdb7ac058e9>\"\u001b[1;36m, line \u001b[1;32m2\u001b[0m\n\u001b[1;33m    print('Heatwave Warning')\u001b[0m\n\u001b[1;37m    ^\u001b[0m\n\u001b[1;31mIndentationError\u001b[0m\u001b[1;31m:\u001b[0m expected an indented block\n"
     ]
    }
   ],
   "source": [
    "if temperature > 20:\n",
    "print('Heatwave Warning')"
   ]
  },
  {
   "cell_type": "markdown",
   "id": "aec833e7",
   "metadata": {},
   "source": [
    "If `elif` else"
   ]
  },
  {
   "cell_type": "code",
   "execution_count": 6,
   "id": "11ecb2a3",
   "metadata": {},
   "outputs": [
    {
     "name": "stdout",
     "output_type": "stream",
     "text": [
      "Moderate\n"
     ]
    }
   ],
   "source": [
    "temperature = 16\n",
    "\n",
    "if temperature > 20:\n",
    "    print('Heatwave')\n",
    "elif temperature < 10:\n",
    "    print('Cold')\n",
    "else:\n",
    "    print('Moderate')"
   ]
  },
  {
   "cell_type": "markdown",
   "id": "c43837dd",
   "metadata": {},
   "source": [
    "## Loops"
   ]
  },
  {
   "cell_type": "code",
   "execution_count": 7,
   "id": "d5e8e68a",
   "metadata": {},
   "outputs": [
    {
     "name": "stdout",
     "output_type": "stream",
     "text": [
      "3\n",
      "6\n",
      "9\n",
      "12\n"
     ]
    }
   ],
   "source": [
    "numbers = [1,2,3,4]\n",
    "\n",
    "# for loop\n",
    "for number in numbers:\n",
    "    print(number * 3)"
   ]
  },
  {
   "cell_type": "markdown",
   "id": "7bedd5d2",
   "metadata": {},
   "source": [
    "One thing that can be useful - looping through a dictionary"
   ]
  },
  {
   "cell_type": "code",
   "execution_count": 8,
   "id": "f73d26f4",
   "metadata": {},
   "outputs": [],
   "source": [
    "person = {\n",
    "    'name' : 'David',\n",
    "    'age' : 28,\n",
    "    'languages' : ['R', 'Python', 'SQL']\n",
    "}"
   ]
  },
  {
   "cell_type": "code",
   "execution_count": 9,
   "id": "61cbac10",
   "metadata": {},
   "outputs": [
    {
     "data": {
      "text/plain": [
       "{'name': 'David', 'age': 28, 'languages': ['R', 'Python', 'SQL']}"
      ]
     },
     "execution_count": 9,
     "metadata": {},
     "output_type": "execute_result"
    }
   ],
   "source": [
    "person"
   ]
  },
  {
   "cell_type": "code",
   "execution_count": 10,
   "id": "b9a932ca",
   "metadata": {},
   "outputs": [
    {
     "data": {
      "text/plain": [
       "dict_keys(['name', 'age', 'languages'])"
      ]
     },
     "execution_count": 10,
     "metadata": {},
     "output_type": "execute_result"
    }
   ],
   "source": [
    "person.keys()"
   ]
  },
  {
   "cell_type": "code",
   "execution_count": 12,
   "id": "d8293c3b",
   "metadata": {},
   "outputs": [
    {
     "name": "stdout",
     "output_type": "stream",
     "text": [
      "name\n",
      "age\n",
      "languages\n"
     ]
    }
   ],
   "source": [
    "for key in person.keys():\n",
    "    print(key)"
   ]
  },
  {
   "cell_type": "code",
   "execution_count": 13,
   "id": "b2c92c1d",
   "metadata": {},
   "outputs": [
    {
     "name": "stdout",
     "output_type": "stream",
     "text": [
      "David\n",
      "28\n",
      "['R', 'Python', 'SQL']\n"
     ]
    }
   ],
   "source": [
    "for value in person.values():\n",
    "    print(value)"
   ]
  },
  {
   "cell_type": "markdown",
   "id": "bec0701c",
   "metadata": {},
   "source": [
    "Let's combine our control flow togher\n",
    "\n",
    "- if logic  \n",
    "- and for loop"
   ]
  },
  {
   "cell_type": "code",
   "execution_count": 16,
   "id": "66aab6da",
   "metadata": {},
   "outputs": [],
   "source": [
    "nums = [13,16,20,31,7,8,-1,25,0.5]"
   ]
  },
  {
   "cell_type": "markdown",
   "id": "0945a069",
   "metadata": {},
   "source": [
    "### Goal : Create a list of the even integers in numbers"
   ]
  },
  {
   "cell_type": "code",
   "execution_count": 19,
   "id": "c1b07fcf",
   "metadata": {},
   "outputs": [
    {
     "data": {
      "text/plain": [
       "[13, 16, 20, 31, 7, 8, -1, 25, 0.5]"
      ]
     },
     "execution_count": 19,
     "metadata": {},
     "output_type": "execute_result"
    }
   ],
   "source": [
    "# 1. create empty list\n",
    "even_numbers = []\n",
    "for num in nums:\n",
    "    even_numbers.append(num)\n",
    "    \n",
    "even_numbers"
   ]
  },
  {
   "cell_type": "code",
   "execution_count": 20,
   "id": "06532d01",
   "metadata": {},
   "outputs": [
    {
     "data": {
      "text/plain": [
       "[16, 20, 8]"
      ]
     },
     "execution_count": 20,
     "metadata": {},
     "output_type": "execute_result"
    }
   ],
   "source": [
    "# 1. create empty list\n",
    "even_numbers = []\n",
    "# 2. iterate through list of nums\n",
    "for num in nums:\n",
    "    # 3. check if current num is even\n",
    "    if num % 2 == 0:\n",
    "        # 4. add num to list of even numbers\n",
    "        even_numbers.append(num)\n",
    "    \n",
    "even_numbers"
   ]
  },
  {
   "cell_type": "markdown",
   "id": "a11d8202",
   "metadata": {},
   "source": [
    "# FizzBuzz\n",
    "\n",
    "For the number 1 to 100 print the number. If the number is divisible by 3 print \"Fizz\" instead. If it's divisible by 5 print \"Buzz\" and if it's divisible by both 3 and 5 print \"FizzBuzz\""
   ]
  },
  {
   "cell_type": "code",
   "execution_count": 22,
   "id": "26715e2c",
   "metadata": {},
   "outputs": [
    {
     "name": "stdout",
     "output_type": "stream",
     "text": [
      "1\n",
      "2\n",
      "Fizz\n",
      "4\n",
      "Buzz\n",
      "Fizz\n",
      "7\n",
      "8\n",
      "Fizz\n",
      "Buzz\n",
      "11\n",
      "Fizz\n",
      "13\n",
      "14\n",
      "FizzBuzz\n",
      "16\n",
      "17\n",
      "Fizz\n",
      "19\n",
      "Buzz\n",
      "Fizz\n",
      "22\n",
      "23\n",
      "Fizz\n",
      "Buzz\n",
      "26\n",
      "Fizz\n",
      "28\n",
      "29\n",
      "FizzBuzz\n",
      "31\n",
      "32\n",
      "Fizz\n",
      "34\n",
      "Buzz\n",
      "Fizz\n",
      "37\n",
      "38\n",
      "Fizz\n",
      "Buzz\n",
      "41\n",
      "Fizz\n",
      "43\n",
      "44\n",
      "FizzBuzz\n",
      "46\n",
      "47\n",
      "Fizz\n",
      "49\n",
      "Buzz\n",
      "Fizz\n",
      "52\n",
      "53\n",
      "Fizz\n",
      "Buzz\n",
      "56\n",
      "Fizz\n",
      "58\n",
      "59\n",
      "FizzBuzz\n",
      "61\n",
      "62\n",
      "Fizz\n",
      "64\n",
      "Buzz\n",
      "Fizz\n",
      "67\n",
      "68\n",
      "Fizz\n",
      "Buzz\n",
      "71\n",
      "Fizz\n",
      "73\n",
      "74\n",
      "FizzBuzz\n",
      "76\n",
      "77\n",
      "Fizz\n",
      "79\n",
      "Buzz\n",
      "Fizz\n",
      "82\n",
      "83\n",
      "Fizz\n",
      "Buzz\n",
      "86\n",
      "Fizz\n",
      "88\n",
      "89\n",
      "FizzBuzz\n",
      "91\n",
      "92\n",
      "Fizz\n",
      "94\n",
      "Buzz\n",
      "Fizz\n",
      "97\n",
      "98\n",
      "Fizz\n",
      "Buzz\n"
     ]
    }
   ],
   "source": [
    "numbers = range(1, 101)\n",
    "for number in numbers:\n",
    "    if number % 15 == 0:\n",
    "        print('FizzBuzz')\n",
    "    elif number % 5 == 0:\n",
    "        print('Buzz')\n",
    "    elif number % 3 == 0:\n",
    "        print('Fizz')\n",
    "    else:\n",
    "        print(number)"
   ]
  },
  {
   "cell_type": "markdown",
   "id": "caa18d0e",
   "metadata": {},
   "source": [
    "## List Comprehensions\n",
    "\n",
    "- (speedy loops)"
   ]
  },
  {
   "cell_type": "code",
   "execution_count": 23,
   "id": "8d82d2ae",
   "metadata": {},
   "outputs": [
    {
     "data": {
      "text/plain": [
       "[1, 4, 9, 16]"
      ]
     },
     "execution_count": 23,
     "metadata": {},
     "output_type": "execute_result"
    }
   ],
   "source": [
    "numbers_squared = []\n",
    "\n",
    "numbers = [1,2,3,4]\n",
    "\n",
    "for number in numbers:\n",
    "    numbers_squared.append(number ** 2)\n",
    "    \n",
    "numbers_squared"
   ]
  },
  {
   "cell_type": "markdown",
   "id": "37fa5e50",
   "metadata": {},
   "source": [
    "`**` ~ `^`"
   ]
  },
  {
   "cell_type": "code",
   "execution_count": 24,
   "id": "4de1d161",
   "metadata": {},
   "outputs": [],
   "source": [
    "numbers_squared = []"
   ]
  },
  {
   "cell_type": "code",
   "execution_count": 25,
   "id": "a0c8bc5f",
   "metadata": {},
   "outputs": [],
   "source": [
    "numbers_squared = [number ** 2 for number in numbers]"
   ]
  },
  {
   "cell_type": "code",
   "execution_count": 26,
   "id": "bbd84520",
   "metadata": {},
   "outputs": [
    {
     "data": {
      "text/plain": [
       "[1, 4, 9, 16]"
      ]
     },
     "execution_count": 26,
     "metadata": {},
     "output_type": "execute_result"
    }
   ],
   "source": [
    "numbers_squared"
   ]
  },
  {
   "cell_type": "markdown",
   "id": "af985211",
   "metadata": {},
   "source": [
    "new_list = [operated-on item in old_list]"
   ]
  },
  {
   "cell_type": "code",
   "execution_count": 28,
   "id": "5538a742",
   "metadata": {},
   "outputs": [
    {
     "data": {
      "text/plain": [
       "[0, 12, 24, 36, 48, 60, 72, 84, 96]"
      ]
     },
     "execution_count": 28,
     "metadata": {},
     "output_type": "execute_result"
    }
   ],
   "source": [
    "multiples_of_12 = []\n",
    "\n",
    "for number in range(101):\n",
    "    \n",
    "    if number % 12 == 0:\n",
    "        multiples_of_12.append(number)\n",
    "        \n",
    "multiples_of_12"
   ]
  },
  {
   "cell_type": "code",
   "execution_count": 29,
   "id": "930c73ab",
   "metadata": {},
   "outputs": [],
   "source": [
    "multiples_of_12 = [number for number in range(101) if number % 12 == 0]"
   ]
  },
  {
   "cell_type": "code",
   "execution_count": 30,
   "id": "e4ec7b6e",
   "metadata": {},
   "outputs": [
    {
     "data": {
      "text/plain": [
       "[0, 12, 24, 36, 48, 60, 72, 84, 96]"
      ]
     },
     "execution_count": 30,
     "metadata": {},
     "output_type": "execute_result"
    }
   ],
   "source": [
    "multiples_of_12"
   ]
  },
  {
   "cell_type": "markdown",
   "id": "438b9761",
   "metadata": {},
   "source": [
    "## Dictionary Comprehensions\n",
    "\n",
    "are a thing too"
   ]
  },
  {
   "cell_type": "code",
   "execution_count": 31,
   "id": "ffe80c65",
   "metadata": {},
   "outputs": [
    {
     "data": {
      "text/plain": [
       "{'apple': 5, 'orange': 6, 'pineapple': 9}"
      ]
     },
     "execution_count": 31,
     "metadata": {},
     "output_type": "execute_result"
    }
   ],
   "source": [
    "fruits = ['apple', 'orange', 'pineapple']\n",
    "\n",
    "length_of_fruits = {fruit:len(fruit) for fruit in fruits}\n",
    "\n",
    "length_of_fruits"
   ]
  },
  {
   "cell_type": "markdown",
   "id": "e8364a5d",
   "metadata": {},
   "source": [
    "**Task - 5 minuted**\n",
    "\n",
    "Write the following loops as list or dictionary comprehensions."
   ]
  },
  {
   "cell_type": "code",
   "execution_count": 32,
   "id": "8dbe34ae",
   "metadata": {},
   "outputs": [],
   "source": [
    "# first loop\n",
    "primes = []\n",
    "for i in range(2, 100):\n",
    "    if i % 2 != 0 and i % 3 != 0 and i % 5 != 0 and i % 7 !=0 and i % 11 != 0:\n",
    "        primes.append(i)\n",
    "\n",
    "# second loop\n",
    "ordinal_dict = {}\n",
    "\n",
    "for number in range(4, 11):\n",
    "    ordinal_dict[number] = str(number) + 'th'"
   ]
  },
  {
   "cell_type": "code",
   "execution_count": 33,
   "id": "d1054e5a",
   "metadata": {},
   "outputs": [
    {
     "data": {
      "text/plain": [
       "[13,\n",
       " 17,\n",
       " 19,\n",
       " 23,\n",
       " 29,\n",
       " 31,\n",
       " 37,\n",
       " 41,\n",
       " 43,\n",
       " 47,\n",
       " 53,\n",
       " 59,\n",
       " 61,\n",
       " 67,\n",
       " 71,\n",
       " 73,\n",
       " 79,\n",
       " 83,\n",
       " 89,\n",
       " 97]"
      ]
     },
     "execution_count": 33,
     "metadata": {},
     "output_type": "execute_result"
    }
   ],
   "source": [
    "primes = [i for i in range(2, 100) if i % 2 != 0 and i % 3 != 0 and i % 5 != 0 and i % 7 !=0 and i % 11 != 0]\n",
    "\n",
    "primes"
   ]
  },
  {
   "cell_type": "code",
   "execution_count": null,
   "id": "39a331b7",
   "metadata": {},
   "outputs": [],
   "source": [
    "# how to write in time\n",
    "\n",
    "primes = [\n",
    "    i for i in range(2, 100) if\n",
    "    i % 2 != 0 and \n",
    "    i % 3 != 0 and \n",
    "    i % 5 != 0 and \n",
    "    i % 7 !=0 and \n",
    "    i % 11 != 0\n",
    "]\n",
    "\n",
    "primes"
   ]
  },
  {
   "cell_type": "code",
   "execution_count": 34,
   "id": "ec9a8356",
   "metadata": {},
   "outputs": [
    {
     "data": {
      "text/plain": [
       "{4: '4th', 5: '5th', 6: '6th', 7: '7th', 8: '8th', 9: '9th', 10: '10th'}"
      ]
     },
     "execution_count": 34,
     "metadata": {},
     "output_type": "execute_result"
    }
   ],
   "source": [
    "ordinal_dict = {number:str(number) + 'th' for number in range(4,11)}\n",
    "\n",
    "ordinal_dict"
   ]
  },
  {
   "cell_type": "code",
   "execution_count": null,
   "id": "3c86c741",
   "metadata": {},
   "outputs": [],
   "source": []
  }
 ],
 "metadata": {
  "kernelspec": {
   "display_name": "Python 3",
   "language": "python",
   "name": "python3"
  },
  "language_info": {
   "codemirror_mode": {
    "name": "ipython",
    "version": 3
   },
   "file_extension": ".py",
   "mimetype": "text/x-python",
   "name": "python",
   "nbconvert_exporter": "python",
   "pygments_lexer": "ipython3",
   "version": "3.8.8"
  },
  "varInspector": {
   "cols": {
    "lenName": 16,
    "lenType": 16,
    "lenVar": 40
   },
   "kernels_config": {
    "python": {
     "delete_cmd_postfix": "",
     "delete_cmd_prefix": "del ",
     "library": "var_list.py",
     "varRefreshCmd": "print(var_dic_list())"
    },
    "r": {
     "delete_cmd_postfix": ") ",
     "delete_cmd_prefix": "rm(",
     "library": "var_list.r",
     "varRefreshCmd": "cat(var_dic_list()) "
    }
   },
   "types_to_exclude": [
    "module",
    "function",
    "builtin_function_or_method",
    "instance",
    "_Feature"
   ],
   "window_display": false
  }
 },
 "nbformat": 4,
 "nbformat_minor": 5
}
