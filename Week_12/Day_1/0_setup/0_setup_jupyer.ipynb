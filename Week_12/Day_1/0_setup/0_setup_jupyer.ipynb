{
 "cells": [
  {
   "cell_type": "code",
   "execution_count": 1,
   "id": "7e7fb281",
   "metadata": {},
   "outputs": [
    {
     "data": {
      "text/plain": [
       "6916"
      ]
     },
     "execution_count": 1,
     "metadata": {},
     "output_type": "execute_result"
    }
   ],
   "source": [
    "# This is a code\n",
    "91 * 76\n",
    "\n",
    "\n",
    "\n"
   ]
  },
  {
   "cell_type": "markdown",
   "id": "77ecf202",
   "metadata": {},
   "source": [
    "This is a markdown\n"
   ]
  },
  {
   "cell_type": "markdown",
   "id": "8ba20725",
   "metadata": {},
   "source": [
    "## Modes\n",
    "\n",
    "1. Command Mode [blue_box]\n",
    "1. Edit Mode (green box)\n",
    "\n",
    "## Press <kbd>Ecs</kbd>\n",
    "\n",
    "to switch from edit mode to command mode\n",
    "\n",
    "In command mode you can ...\n",
    "\n",
    "- navigate between cells (arrow keys)\n",
    "- delete cells <kbd>d</kbd><kbd>d</kbd>\n",
    "- add cells\n",
    "    - below <kbd>b</kbd>\n",
    "    - above <kbd>a</kbd>\n",
    "- copy cells <kbd>c</kbd>\n",
    "- paste cells <kbd>p</kbd>\n",
    "- toggle between modes: edit mode <kbd>y</kbd> and command mode <kbd>m</kbd>\n",
    "- go into edit mode <kbd>enter</kbd>\n",
    "\n"
   ]
  },
  {
   "cell_type": "code",
   "execution_count": null,
   "id": "0c063b80",
   "metadata": {},
   "outputs": [],
   "source": []
  },
  {
   "cell_type": "code",
   "execution_count": null,
   "id": "24d68014",
   "metadata": {},
   "outputs": [],
   "source": []
  },
  {
   "cell_type": "code",
   "execution_count": null,
   "id": "074b34a2",
   "metadata": {},
   "outputs": [],
   "source": []
  },
  {
   "cell_type": "code",
   "execution_count": null,
   "id": "adf7b98b",
   "metadata": {},
   "outputs": [],
   "source": []
  }
 ],
 "metadata": {
  "kernelspec": {
   "display_name": "Python 3",
   "language": "python",
   "name": "python3"
  },
  "language_info": {
   "codemirror_mode": {
    "name": "ipython",
    "version": 3
   },
   "file_extension": ".py",
   "mimetype": "text/x-python",
   "name": "python",
   "nbconvert_exporter": "python",
   "pygments_lexer": "ipython3",
   "version": "3.8.8"
  },
  "varInspector": {
   "cols": {
    "lenName": 16,
    "lenType": 16,
    "lenVar": 40
   },
   "kernels_config": {
    "python": {
     "delete_cmd_postfix": "",
     "delete_cmd_prefix": "del ",
     "library": "var_list.py",
     "varRefreshCmd": "print(var_dic_list())"
    },
    "r": {
     "delete_cmd_postfix": ") ",
     "delete_cmd_prefix": "rm(",
     "library": "var_list.r",
     "varRefreshCmd": "cat(var_dic_list()) "
    }
   },
   "types_to_exclude": [
    "module",
    "function",
    "builtin_function_or_method",
    "instance",
    "_Feature"
   ],
   "window_display": false
  }
 },
 "nbformat": 4,
 "nbformat_minor": 5
}
