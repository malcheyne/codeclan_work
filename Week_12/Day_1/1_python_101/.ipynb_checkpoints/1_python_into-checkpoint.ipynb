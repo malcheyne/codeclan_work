{
 "cells": [
  {
   "cell_type": "markdown",
   "id": "83ce0ffb",
   "metadata": {},
   "source": [
    "# Intro to Python\n",
    "\n",
    "## Learning Objectives\n",
    "\n",
    "- Ba able to use Jupyter Notebooks\n",
    "- Understand the basics of Python\n",
    "- Recognise the differences between Python and R"
   ]
  },
  {
   "cell_type": "markdown",
   "id": "6f74a330",
   "metadata": {},
   "source": [
    "Python is pretty much universal \n",
    "\n",
    "- general programming language\n",
    "\n",
    "R\n",
    "\n",
    "- statisitical computing language\n",
    "\n",
    "Both "
   ]
  },
  {
   "cell_type": "code",
   "execution_count": 1,
   "id": "29a8e794",
   "metadata": {},
   "outputs": [],
   "source": [
    "# 1. variable assignment\n",
    "\n",
    "my_fave_colour = \"blue\""
   ]
  },
  {
   "cell_type": "code",
   "execution_count": 2,
   "id": "7b3dcf09",
   "metadata": {},
   "outputs": [
    {
     "data": {
      "text/plain": [
       "'blue'"
      ]
     },
     "execution_count": 2,
     "metadata": {},
     "output_type": "execute_result"
    }
   ],
   "source": [
    "my_fave_colour"
   ]
  },
  {
   "cell_type": "code",
   "execution_count": 3,
   "id": "c697e760",
   "metadata": {},
   "outputs": [
    {
     "name": "stdout",
     "output_type": "stream",
     "text": [
      "blue\n"
     ]
    }
   ],
   "source": [
    "# variable output\n",
    "print(my_fave_colour)"
   ]
  },
  {
   "cell_type": "code",
   "execution_count": 4,
   "id": "93aa22dd",
   "metadata": {},
   "outputs": [],
   "source": [
    "# 2. Data Types"
   ]
  },
  {
   "cell_type": "code",
   "execution_count": 5,
   "id": "96505d46",
   "metadata": {},
   "outputs": [
    {
     "ename": "NameError",
     "evalue": "name 'character' is not defined",
     "output_type": "error",
     "traceback": [
      "\u001b[1;31m---------------------------------------------------------------------------\u001b[0m",
      "\u001b[1;31mNameError\u001b[0m                                 Traceback (most recent call last)",
      "\u001b[1;32m<ipython-input-5-edc66a04577f>\u001b[0m in \u001b[0;36m<module>\u001b[1;34m\u001b[0m\n\u001b[1;32m----> 1\u001b[1;33m \u001b[0mcharacter\u001b[0m\u001b[1;33m\u001b[0m\u001b[1;33m\u001b[0m\u001b[0m\n\u001b[0m\u001b[0;32m      2\u001b[0m \u001b[0mnumeric\u001b[0m \u001b[1;33m-\u001b[0m \u001b[0minteger\u001b[0m\u001b[1;33m/\u001b[0m\u001b[0mdouble\u001b[0m\u001b[1;33m\u001b[0m\u001b[1;33m\u001b[0m\u001b[0m\n\u001b[0;32m      3\u001b[0m \u001b[0mlogical\u001b[0m\u001b[1;33m\u001b[0m\u001b[1;33m\u001b[0m\u001b[0m\n\u001b[0;32m      4\u001b[0m \u001b[0mdatetime\u001b[0m\u001b[1;33m\u001b[0m\u001b[1;33m\u001b[0m\u001b[0m\n",
      "\u001b[1;31mNameError\u001b[0m: name 'character' is not defined"
     ]
    }
   ],
   "source": [
    "character\n",
    "numeric - integer/double\n",
    "logical\n",
    "datetime"
   ]
  },
  {
   "cell_type": "code",
   "execution_count": 6,
   "id": "c90fa0db",
   "metadata": {},
   "outputs": [
    {
     "data": {
      "text/plain": [
       "str"
      ]
     },
     "execution_count": 6,
     "metadata": {},
     "output_type": "execute_result"
    }
   ],
   "source": [
    "# strings\n",
    "type(my_fave_colour)"
   ]
  },
  {
   "cell_type": "code",
   "execution_count": null,
   "id": "d126c2ee",
   "metadata": {},
   "outputs": [],
   "source": []
  },
  {
   "cell_type": "code",
   "execution_count": null,
   "id": "8fc01ed8",
   "metadata": {},
   "outputs": [],
   "source": []
  },
  {
   "cell_type": "code",
   "execution_count": null,
   "id": "1f9413a8",
   "metadata": {},
   "outputs": [],
   "source": []
  },
  {
   "cell_type": "markdown",
   "id": "e64f6d0a",
   "metadata": {},
   "source": [
    "# A Key Distinction"
   ]
  },
  {
   "cell_type": "code",
   "execution_count": 7,
   "id": "84d8902d",
   "metadata": {},
   "outputs": [
    {
     "ename": "NameError",
     "evalue": "name 'my_fave_number' is not defined",
     "output_type": "error",
     "traceback": [
      "\u001b[1;31m---------------------------------------------------------------------------\u001b[0m",
      "\u001b[1;31mNameError\u001b[0m                                 Traceback (most recent call last)",
      "\u001b[1;32m<ipython-input-7-f50e47fd43a1>\u001b[0m in \u001b[0;36m<module>\u001b[1;34m\u001b[0m\n\u001b[0;32m      1\u001b[0m \u001b[1;31m# not run\u001b[0m\u001b[1;33m\u001b[0m\u001b[1;33m\u001b[0m\u001b[1;33m\u001b[0m\u001b[0m\n\u001b[1;32m----> 2\u001b[1;33m \u001b[0mmy_fave_number\u001b[0m \u001b[1;33m<\u001b[0m\u001b[1;33m-\u001b[0m \u001b[1;36m27\u001b[0m\u001b[1;33m\u001b[0m\u001b[1;33m\u001b[0m\u001b[0m\n\u001b[0m\u001b[0;32m      3\u001b[0m \u001b[1;33m\u001b[0m\u001b[0m\n\u001b[0;32m      4\u001b[0m \u001b[0mmy_fave_number\u001b[0m \u001b[1;33m==\u001b[0m \u001b[0mc\u001b[0m\u001b[1;33m(\u001b[0m\u001b[1;36m27\u001b[0m\u001b[1;33m)\u001b[0m\u001b[1;33m\u001b[0m\u001b[1;33m\u001b[0m\u001b[0m\n\u001b[0;32m      5\u001b[0m \u001b[1;33m\u001b[0m\u001b[0m\n",
      "\u001b[1;31mNameError\u001b[0m: name 'my_fave_number' is not defined"
     ]
    }
   ],
   "source": [
    "# not run\n",
    "my_fave_number <- 27\n",
    "\n",
    "my_fave_number == c(27)\n",
    "\n",
    "# output TRUE"
   ]
  },
  {
   "cell_type": "code",
   "execution_count": null,
   "id": "b330e105",
   "metadata": {},
   "outputs": [],
   "source": []
  },
  {
   "cell_type": "code",
   "execution_count": null,
   "id": "0cd64de0",
   "metadata": {},
   "outputs": [],
   "source": []
  },
  {
   "cell_type": "markdown",
   "id": "8773d842",
   "metadata": {},
   "source": [
    "# Python stats indexes at 0"
   ]
  },
  {
   "cell_type": "code",
   "execution_count": null,
   "id": "d3eecedc",
   "metadata": {},
   "outputs": [],
   "source": []
  },
  {
   "cell_type": "markdown",
   "id": "3fdcd30c",
   "metadata": {},
   "source": [
    "# Python bool values are Title Case not Upper Case"
   ]
  },
  {
   "cell_type": "code",
   "execution_count": null,
   "id": "13aa5c61",
   "metadata": {},
   "outputs": [],
   "source": []
  },
  {
   "cell_type": "code",
   "execution_count": null,
   "id": "b277b298",
   "metadata": {},
   "outputs": [],
   "source": []
  },
  {
   "cell_type": "markdown",
   "id": "43e0e95e",
   "metadata": {},
   "source": [
    "# Lists\n",
    "\n",
    "## 1. creating with range()\n",
    "## 2. list indexing"
   ]
  },
  {
   "cell_type": "code",
   "execution_count": 9,
   "id": "a9e135da",
   "metadata": {},
   "outputs": [
    {
     "data": {
      "text/plain": [
       "range(5, 10)"
      ]
     },
     "execution_count": 9,
     "metadata": {},
     "output_type": "execute_result"
    }
   ],
   "source": [
    "range(5, 10)"
   ]
  },
  {
   "cell_type": "code",
   "execution_count": 10,
   "id": "e4b2cd05",
   "metadata": {},
   "outputs": [
    {
     "data": {
      "text/plain": [
       "range"
      ]
     },
     "execution_count": 10,
     "metadata": {},
     "output_type": "execute_result"
    }
   ],
   "source": [
    "type(range(5, 10))"
   ]
  },
  {
   "cell_type": "code",
   "execution_count": 12,
   "id": "48ffed37",
   "metadata": {},
   "outputs": [
    {
     "data": {
      "text/plain": [
       "[5, 6, 7, 8, 9]"
      ]
     },
     "execution_count": 12,
     "metadata": {},
     "output_type": "execute_result"
    }
   ],
   "source": [
    "# range doesn't include top value\n",
    "list(range(5, 10))"
   ]
  },
  {
   "cell_type": "code",
   "execution_count": 18,
   "id": "abe167fd",
   "metadata": {},
   "outputs": [
    {
     "data": {
      "text/plain": [
       "[0, 2, 4, 6, 8, 10, 12, 14, 16, 18, 20]"
      ]
     },
     "execution_count": 18,
     "metadata": {},
     "output_type": "execute_result"
    }
   ],
   "source": [
    "two_times_table = list(range(0, 22, 2))\n",
    "\n",
    "two_times_table"
   ]
  },
  {
   "cell_type": "code",
   "execution_count": 15,
   "id": "0f4c28df",
   "metadata": {},
   "outputs": [
    {
     "name": "stdout",
     "output_type": "stream",
     "text": [
      "Help on class range in module builtins:\n",
      "\n",
      "class range(object)\n",
      " |  range(stop) -> range object\n",
      " |  range(start, stop[, step]) -> range object\n",
      " |  \n",
      " |  Return an object that produces a sequence of integers from start (inclusive)\n",
      " |  to stop (exclusive) by step.  range(i, j) produces i, i+1, i+2, ..., j-1.\n",
      " |  start defaults to 0, and stop is omitted!  range(4) produces 0, 1, 2, 3.\n",
      " |  These are exactly the valid indices for a list of 4 elements.\n",
      " |  When step is given, it specifies the increment (or decrement).\n",
      " |  \n",
      " |  Methods defined here:\n",
      " |  \n",
      " |  __bool__(self, /)\n",
      " |      self != 0\n",
      " |  \n",
      " |  __contains__(self, key, /)\n",
      " |      Return key in self.\n",
      " |  \n",
      " |  __eq__(self, value, /)\n",
      " |      Return self==value.\n",
      " |  \n",
      " |  __ge__(self, value, /)\n",
      " |      Return self>=value.\n",
      " |  \n",
      " |  __getattribute__(self, name, /)\n",
      " |      Return getattr(self, name).\n",
      " |  \n",
      " |  __getitem__(self, key, /)\n",
      " |      Return self[key].\n",
      " |  \n",
      " |  __gt__(self, value, /)\n",
      " |      Return self>value.\n",
      " |  \n",
      " |  __hash__(self, /)\n",
      " |      Return hash(self).\n",
      " |  \n",
      " |  __iter__(self, /)\n",
      " |      Implement iter(self).\n",
      " |  \n",
      " |  __le__(self, value, /)\n",
      " |      Return self<=value.\n",
      " |  \n",
      " |  __len__(self, /)\n",
      " |      Return len(self).\n",
      " |  \n",
      " |  __lt__(self, value, /)\n",
      " |      Return self<value.\n",
      " |  \n",
      " |  __ne__(self, value, /)\n",
      " |      Return self!=value.\n",
      " |  \n",
      " |  __reduce__(...)\n",
      " |      Helper for pickle.\n",
      " |  \n",
      " |  __repr__(self, /)\n",
      " |      Return repr(self).\n",
      " |  \n",
      " |  __reversed__(...)\n",
      " |      Return a reverse iterator.\n",
      " |  \n",
      " |  count(...)\n",
      " |      rangeobject.count(value) -> integer -- return number of occurrences of value\n",
      " |  \n",
      " |  index(...)\n",
      " |      rangeobject.index(value) -> integer -- return index of value.\n",
      " |      Raise ValueError if the value is not present.\n",
      " |  \n",
      " |  ----------------------------------------------------------------------\n",
      " |  Static methods defined here:\n",
      " |  \n",
      " |  __new__(*args, **kwargs) from builtins.type\n",
      " |      Create and return a new object.  See help(type) for accurate signature.\n",
      " |  \n",
      " |  ----------------------------------------------------------------------\n",
      " |  Data descriptors defined here:\n",
      " |  \n",
      " |  start\n",
      " |  \n",
      " |  step\n",
      " |  \n",
      " |  stop\n",
      "\n"
     ]
    }
   ],
   "source": [
    "help(range)"
   ]
  },
  {
   "cell_type": "code",
   "execution_count": 20,
   "id": "63664a78",
   "metadata": {},
   "outputs": [
    {
     "data": {
      "text/plain": [
       "0"
      ]
     },
     "execution_count": 20,
     "metadata": {},
     "output_type": "execute_result"
    }
   ],
   "source": [
    "# first item = 0th position\n",
    "two_times_table[0]"
   ]
  },
  {
   "cell_type": "code",
   "execution_count": 21,
   "id": "d4e12657",
   "metadata": {},
   "outputs": [
    {
     "data": {
      "text/plain": [
       "20"
      ]
     },
     "execution_count": 21,
     "metadata": {},
     "output_type": "execute_result"
    }
   ],
   "source": [
    "# last item \n",
    "two_times_table[-1]"
   ]
  },
  {
   "cell_type": "markdown",
   "id": "da83ddb1",
   "metadata": {},
   "source": [
    "# 2.1 List Slicing"
   ]
  },
  {
   "cell_type": "code",
   "execution_count": 23,
   "id": "b7091941",
   "metadata": {},
   "outputs": [
    {
     "data": {
      "text/plain": [
       "[0, 2, 4, 6]"
      ]
     },
     "execution_count": 23,
     "metadata": {},
     "output_type": "execute_result"
    }
   ],
   "source": [
    "# doesn't include top slice\n",
    "two_times_table[0:4]"
   ]
  },
  {
   "cell_type": "code",
   "execution_count": 24,
   "id": "a955d6a4",
   "metadata": {},
   "outputs": [
    {
     "data": {
      "text/plain": [
       "[0, 2, 4]"
      ]
     },
     "execution_count": 24,
     "metadata": {},
     "output_type": "execute_result"
    }
   ],
   "source": [
    "# implicit slicing -  first three\n",
    "two_times_table[:3]"
   ]
  },
  {
   "cell_type": "code",
   "execution_count": 25,
   "id": "4bdc4926",
   "metadata": {},
   "outputs": [
    {
     "data": {
      "text/plain": [
       "[16, 18, 20]"
      ]
     },
     "execution_count": 25,
     "metadata": {},
     "output_type": "execute_result"
    }
   ],
   "source": [
    "# implicit slicing -  final three\n",
    "two_times_table[-3:]"
   ]
  },
  {
   "cell_type": "markdown",
   "id": "4403590c",
   "metadata": {},
   "source": [
    "# Task"
   ]
  },
  {
   "cell_type": "code",
   "execution_count": 28,
   "id": "b97a3c1c",
   "metadata": {},
   "outputs": [],
   "source": [
    "things = list((\"Apple\", \"Grape\", 101, \"Onion\", False))"
   ]
  },
  {
   "cell_type": "code",
   "execution_count": null,
   "id": "d8fbd76d",
   "metadata": {},
   "outputs": [],
   "source": []
  },
  {
   "cell_type": "code",
   "execution_count": null,
   "id": "7ac4b068",
   "metadata": {},
   "outputs": [],
   "source": []
  },
  {
   "cell_type": "markdown",
   "id": "a8def116",
   "metadata": {},
   "source": [
    "'' are always fine  \n",
    "'' for function arguments that take strings  \n",
    "\"\" allowed for text date"
   ]
  },
  {
   "cell_type": "markdown",
   "id": "650e217b",
   "metadata": {},
   "source": [
    "# Methods - list metods"
   ]
  },
  {
   "cell_type": "code",
   "execution_count": 29,
   "id": "1a357846",
   "metadata": {},
   "outputs": [
    {
     "ename": "NameError",
     "evalue": "name 'some_function' is not defined",
     "output_type": "error",
     "traceback": [
      "\u001b[1;31m---------------------------------------------------------------------------\u001b[0m",
      "\u001b[1;31mNameError\u001b[0m                                 Traceback (most recent call last)",
      "\u001b[1;32m<ipython-input-29-d9371cf1b39b>\u001b[0m in \u001b[0;36m<module>\u001b[1;34m\u001b[0m\n\u001b[0;32m      1\u001b[0m \u001b[1;31m# don't run\u001b[0m\u001b[1;33m\u001b[0m\u001b[1;33m\u001b[0m\u001b[1;33m\u001b[0m\u001b[0m\n\u001b[1;32m----> 2\u001b[1;33m \u001b[0msome_function\u001b[0m\u001b[1;33m(\u001b[0m\u001b[0marg1\u001b[0m\u001b[1;33m=\u001b[0m\u001b[1;33m...\u001b[0m\u001b[1;33m,\u001b[0m \u001b[0marg2\u001b[0m\u001b[1;33m=\u001b[0m\u001b[1;33m...\u001b[0m\u001b[1;33m)\u001b[0m\u001b[1;33m\u001b[0m\u001b[1;33m\u001b[0m\u001b[0m\n\u001b[0m",
      "\u001b[1;31mNameError\u001b[0m: name 'some_function' is not defined"
     ]
    }
   ],
   "source": [
    "# don't run \n",
    "some_function(arg1=..., arg2=...)"
   ]
  },
  {
   "cell_type": "code",
   "execution_count": 31,
   "id": "ddb708f7",
   "metadata": {},
   "outputs": [
    {
     "data": {
      "text/plain": [
       "6"
      ]
     },
     "execution_count": 31,
     "metadata": {},
     "output_type": "execute_result"
    }
   ],
   "source": [
    "sum([1, 2, 3])"
   ]
  },
  {
   "cell_type": "markdown",
   "id": "aab6ef0d",
   "metadata": {},
   "source": [
    "## Almost everything in python is an 'object'\n",
    "\n",
    "(python is a object-oriented programing (OOP) language)\n",
    "\n",
    "- functions are sometimes/often used in a way we're less used to in R\n",
    "\n",
    "methods are functions that 'live' on classes/objects"
   ]
  },
  {
   "cell_type": "code",
   "execution_count": 35,
   "id": "de30bfa4",
   "metadata": {},
   "outputs": [],
   "source": [
    "numbers = [19, 67, 12, 9]"
   ]
  },
  {
   "cell_type": "raw",
   "id": "983fddad",
   "metadata": {},
   "source": [
    "numbers.sort()"
   ]
  },
  {
   "cell_type": "code",
   "execution_count": 37,
   "id": "9d520e0f",
   "metadata": {},
   "outputs": [],
   "source": [
    "numbers.sort()"
   ]
  },
  {
   "cell_type": "code",
   "execution_count": 38,
   "id": "b2fbaf34",
   "metadata": {},
   "outputs": [
    {
     "data": {
      "text/plain": [
       "[9, 12, 19, 67]"
      ]
     },
     "execution_count": 38,
     "metadata": {},
     "output_type": "execute_result"
    }
   ],
   "source": [
    "numbers"
   ]
  },
  {
   "cell_type": "code",
   "execution_count": 39,
   "id": "1f264e2a",
   "metadata": {},
   "outputs": [
    {
     "ename": "NameError",
     "evalue": "name 'my_list' is not defined",
     "output_type": "error",
     "traceback": [
      "\u001b[1;31m---------------------------------------------------------------------------\u001b[0m",
      "\u001b[1;31mNameError\u001b[0m                                 Traceback (most recent call last)",
      "\u001b[1;32m<ipython-input-39-7af39fc45248>\u001b[0m in \u001b[0;36m<module>\u001b[1;34m\u001b[0m\n\u001b[1;32m----> 1\u001b[1;33m \u001b[0mmy_list\u001b[0m\u001b[1;33m[\u001b[0m\u001b[1;33m-\u001b[0m\u001b[1;36m1\u001b[0m\u001b[1;33m]\u001b[0m\u001b[1;33m.\u001b[0m\u001b[0msort\u001b[0m\u001b[1;33m(\u001b[0m\u001b[1;33m)\u001b[0m\u001b[1;33m\u001b[0m\u001b[1;33m\u001b[0m\u001b[0m\n\u001b[0m",
      "\u001b[1;31mNameError\u001b[0m: name 'my_list' is not defined"
     ]
    }
   ],
   "source": [
    "# integers don't have this sort() method\n",
    "my_list[-1].sort()"
   ]
  },
  {
   "cell_type": "markdown",
   "id": "8cf86528",
   "metadata": {},
   "source": [
    "In python objects have\n",
    "\n",
    "- attributes (vales associated with object class)\n",
    "- methods (functions that can be applied to object/ associated with object class)"
   ]
  },
  {
   "cell_type": "code",
   "execution_count": 41,
   "id": "620f6259",
   "metadata": {},
   "outputs": [
    {
     "data": {
      "text/plain": [
       "[9, 12, 19, 67]"
      ]
     },
     "execution_count": 41,
     "metadata": {},
     "output_type": "execute_result"
    }
   ],
   "source": [
    "numbers"
   ]
  },
  {
   "cell_type": "markdown",
   "id": "cef9b827",
   "metadata": {},
   "source": [
    "More list methods\n",
    "\n",
    "- `.pop()`\n",
    "- `.remove()`\n",
    "- `.append()`\n",
    "- `.extend()`\n",
    "\n",
    "All of these operate **in-place**"
   ]
  },
  {
   "cell_type": "code",
   "execution_count": 42,
   "id": "faad8dae",
   "metadata": {},
   "outputs": [
    {
     "data": {
      "text/plain": [
       "67"
      ]
     },
     "execution_count": 42,
     "metadata": {},
     "output_type": "execute_result"
    }
   ],
   "source": [
    "# removes the object, last by default, shows you what your removing\n",
    "numbers.pop()"
   ]
  },
  {
   "cell_type": "code",
   "execution_count": 43,
   "id": "26375c25",
   "metadata": {},
   "outputs": [],
   "source": [
    "# adds \n",
    "numbers.append(68)"
   ]
  },
  {
   "cell_type": "code",
   "execution_count": 45,
   "id": "1803f306",
   "metadata": {},
   "outputs": [
    {
     "data": {
      "text/plain": [
       "[9, 12, 19, 68]"
      ]
     },
     "execution_count": 45,
     "metadata": {},
     "output_type": "execute_result"
    }
   ],
   "source": [
    "numbers"
   ]
  },
  {
   "cell_type": "code",
   "execution_count": 46,
   "id": "b2c912e5",
   "metadata": {},
   "outputs": [],
   "source": [
    "# removes itum\n",
    "numbers.remove(12)"
   ]
  },
  {
   "cell_type": "code",
   "execution_count": 47,
   "id": "7528241d",
   "metadata": {},
   "outputs": [
    {
     "data": {
      "text/plain": [
       "[9, 19, 68]"
      ]
     },
     "execution_count": 47,
     "metadata": {},
     "output_type": "execute_result"
    }
   ],
   "source": [
    "numbers"
   ]
  },
  {
   "cell_type": "markdown",
   "id": "291a1993",
   "metadata": {},
   "source": [
    "Append and extend behave a little differently when we give them a list"
   ]
  },
  {
   "cell_type": "code",
   "execution_count": 48,
   "id": "84854ff4",
   "metadata": {},
   "outputs": [],
   "source": [
    "numbers.append([72, 14, -9])"
   ]
  },
  {
   "cell_type": "code",
   "execution_count": 49,
   "id": "56015fdc",
   "metadata": {},
   "outputs": [
    {
     "data": {
      "text/plain": [
       "[9, 19, 68, [72, 14, -9]]"
      ]
     },
     "execution_count": 49,
     "metadata": {},
     "output_type": "execute_result"
    }
   ],
   "source": [
    "numbers\n",
    "# This has made a list inside a list, not what we want"
   ]
  },
  {
   "cell_type": "code",
   "execution_count": 50,
   "id": "7183601a",
   "metadata": {},
   "outputs": [
    {
     "data": {
      "text/plain": [
       "[72, 14, -9]"
      ]
     },
     "execution_count": 50,
     "metadata": {},
     "output_type": "execute_result"
    }
   ],
   "source": [
    "numbers.pop()\n",
    "# take out the last thing i.e. the list"
   ]
  },
  {
   "cell_type": "code",
   "execution_count": 51,
   "id": "5d94ee91",
   "metadata": {},
   "outputs": [
    {
     "data": {
      "text/plain": [
       "[9, 19, 68]"
      ]
     },
     "execution_count": 51,
     "metadata": {},
     "output_type": "execute_result"
    }
   ],
   "source": [
    "numbers"
   ]
  },
  {
   "cell_type": "code",
   "execution_count": 53,
   "id": "b9efb046",
   "metadata": {},
   "outputs": [],
   "source": [
    "numbers.extend([72, 14, -9])\n",
    "# adds the numbers "
   ]
  },
  {
   "cell_type": "code",
   "execution_count": 54,
   "id": "3978601b",
   "metadata": {},
   "outputs": [
    {
     "data": {
      "text/plain": [
       "[9, 19, 68, 72, 14, -9]"
      ]
     },
     "execution_count": 54,
     "metadata": {},
     "output_type": "execute_result"
    }
   ],
   "source": [
    "numbers"
   ]
  },
  {
   "cell_type": "markdown",
   "id": "9c2d4bb2",
   "metadata": {},
   "source": [
    "Task - 5 minutes\n",
    "\n",
    "Below is a vector containing the first 5 prime numbers\n"
   ]
  },
  {
   "cell_type": "code",
   "execution_count": 55,
   "id": "f367a7c4",
   "metadata": {},
   "outputs": [],
   "source": [
    "primes = [1, 2, 3, 5, 7]"
   ]
  },
  {
   "cell_type": "markdown",
   "id": "5908ec83",
   "metadata": {},
   "source": [
    "Oops, 1 isn't prime. Remove it from the list.\n",
    "\n",
    "Now add the next 3 prime numbers (11, 13, 17).\n",
    "\n",
    "Now use the method reverse() to reverse the list. Print out the reversed list."
   ]
  },
  {
   "cell_type": "code",
   "execution_count": 56,
   "id": "8f99e236",
   "metadata": {},
   "outputs": [
    {
     "data": {
      "text/plain": [
       "[1, 2, 3, 5, 7]"
      ]
     },
     "execution_count": 56,
     "metadata": {},
     "output_type": "execute_result"
    }
   ],
   "source": [
    "primes"
   ]
  },
  {
   "cell_type": "code",
   "execution_count": 57,
   "id": "1c182af3",
   "metadata": {},
   "outputs": [
    {
     "data": {
      "text/plain": [
       "1"
      ]
     },
     "execution_count": 57,
     "metadata": {},
     "output_type": "execute_result"
    }
   ],
   "source": [
    "primes.pop(0)"
   ]
  },
  {
   "cell_type": "code",
   "execution_count": 58,
   "id": "d49af9f2",
   "metadata": {},
   "outputs": [
    {
     "data": {
      "text/plain": [
       "[2, 3, 5, 7]"
      ]
     },
     "execution_count": 58,
     "metadata": {},
     "output_type": "execute_result"
    }
   ],
   "source": [
    "primes"
   ]
  },
  {
   "cell_type": "code",
   "execution_count": 59,
   "id": "be4691cb",
   "metadata": {},
   "outputs": [],
   "source": [
    "primes.extend([11, 13, 17])"
   ]
  },
  {
   "cell_type": "code",
   "execution_count": 60,
   "id": "9ec41cfe",
   "metadata": {},
   "outputs": [
    {
     "data": {
      "text/plain": [
       "[2, 3, 5, 7, 11, 13, 17]"
      ]
     },
     "execution_count": 60,
     "metadata": {},
     "output_type": "execute_result"
    }
   ],
   "source": [
    "primes"
   ]
  },
  {
   "cell_type": "code",
   "execution_count": 63,
   "id": "4735d9f1",
   "metadata": {},
   "outputs": [
    {
     "name": "stdout",
     "output_type": "stream",
     "text": [
      "[17, 13, 11, 7, 5, 3, 2]\n"
     ]
    }
   ],
   "source": [
    "primes.reverse()\n",
    "print(primes)"
   ]
  },
  {
   "cell_type": "markdown",
   "id": "5ead0988",
   "metadata": {},
   "source": [
    "square brackets = list (mutable - able to change)\n",
    "round brackets = tuple (immutable - unable to change)\n",
    "squiggly brackets = dict"
   ]
  },
  {
   "cell_type": "code",
   "execution_count": null,
   "id": "485b50ce",
   "metadata": {},
   "outputs": [],
   "source": []
  },
  {
   "cell_type": "code",
   "execution_count": null,
   "id": "ae92ecae",
   "metadata": {},
   "outputs": [],
   "source": []
  },
  {
   "cell_type": "markdown",
   "id": "fd4001fa",
   "metadata": {},
   "source": []
  },
  {
   "cell_type": "markdown",
   "id": "6dfe9728",
   "metadata": {},
   "source": [
    "## Dictionaries\n",
    "\n",
    "A lot like lists in R"
   ]
  },
  {
   "cell_type": "code",
   "execution_count": 65,
   "id": "ed9dacdb",
   "metadata": {},
   "outputs": [],
   "source": [
    "person_info = {\n",
    "    'name' : 'David',\n",
    "    'age' : 17\n",
    "}"
   ]
  },
  {
   "cell_type": "code",
   "execution_count": 67,
   "id": "35cdb00a",
   "metadata": {},
   "outputs": [
    {
     "data": {
      "text/plain": [
       "{'name': 'David', 'age': 17}"
      ]
     },
     "execution_count": 67,
     "metadata": {},
     "output_type": "execute_result"
    }
   ],
   "source": [
    "person_info"
   ]
  },
  {
   "cell_type": "code",
   "execution_count": 68,
   "id": "ad4fa263",
   "metadata": {},
   "outputs": [],
   "source": [
    "person_info2 = {\n",
    "    'name' : 'James',\n",
    "    'name' : 'Jamie',\n",
    "    'age' : 21\n",
    "}"
   ]
  },
  {
   "cell_type": "code",
   "execution_count": 69,
   "id": "98a3dbab",
   "metadata": {},
   "outputs": [
    {
     "data": {
      "text/plain": [
       "dict"
      ]
     },
     "execution_count": 69,
     "metadata": {},
     "output_type": "execute_result"
    }
   ],
   "source": [
    "type(person_info2)"
   ]
  },
  {
   "cell_type": "code",
   "execution_count": 71,
   "id": "8bae11e8",
   "metadata": {},
   "outputs": [
    {
     "data": {
      "text/plain": [
       "str"
      ]
     },
     "execution_count": 71,
     "metadata": {},
     "output_type": "execute_result"
    }
   ],
   "source": [
    "type(person_info2['name'])"
   ]
  },
  {
   "cell_type": "code",
   "execution_count": 72,
   "id": "8d5088f1",
   "metadata": {},
   "outputs": [
    {
     "data": {
      "text/plain": [
       "{'name': 'Jamie', 'age': 21}"
      ]
     },
     "execution_count": 72,
     "metadata": {},
     "output_type": "execute_result"
    }
   ],
   "source": [
    "person_info2"
   ]
  },
  {
   "cell_type": "markdown",
   "id": "4ad0c7d5",
   "metadata": {},
   "source": [
    "Dictionary Facts\n",
    "key names must be unique  \n",
    "any after usage of a keyname will overwrite the previous `k:v` pair  \n",
    "key names should be strings"
   ]
  },
  {
   "cell_type": "code",
   "execution_count": 73,
   "id": "a0633d4f",
   "metadata": {},
   "outputs": [
    {
     "data": {
      "text/plain": [
       "21"
      ]
     },
     "execution_count": 73,
     "metadata": {},
     "output_type": "execute_result"
    }
   ],
   "source": [
    "person_info2['age']"
   ]
  },
  {
   "cell_type": "markdown",
   "id": "eeeedcf4",
   "metadata": {},
   "source": [
    "squiggly brackets for defining your dictonary  \n",
    "square brackects for indexing your dictionary"
   ]
  },
  {
   "cell_type": "code",
   "execution_count": 74,
   "id": "8a24d0c7",
   "metadata": {},
   "outputs": [
    {
     "data": {
      "text/plain": [
       "dict_keys(['name', 'age'])"
      ]
     },
     "execution_count": 74,
     "metadata": {},
     "output_type": "execute_result"
    }
   ],
   "source": [
    "person_info.keys()"
   ]
  },
  {
   "cell_type": "code",
   "execution_count": 76,
   "id": "cb8fa1d7",
   "metadata": {},
   "outputs": [
    {
     "data": {
      "text/plain": [
       "dict_items([('name', 'David'), ('age', 17)])"
      ]
     },
     "execution_count": 76,
     "metadata": {},
     "output_type": "execute_result"
    }
   ],
   "source": [
    "person_info.items()"
   ]
  },
  {
   "cell_type": "markdown",
   "id": "c86ad790",
   "metadata": {},
   "source": [
    "Last useful bit  \n",
    "'Python' equivlent of 'R's 'length()' is 'len()'"
   ]
  },
  {
   "cell_type": "code",
   "execution_count": 77,
   "id": "b811000c",
   "metadata": {},
   "outputs": [
    {
     "data": {
      "text/plain": [
       "2"
      ]
     },
     "execution_count": 77,
     "metadata": {},
     "output_type": "execute_result"
    }
   ],
   "source": [
    "len(person_info)"
   ]
  },
  {
   "cell_type": "code",
   "execution_count": 78,
   "id": "b7bddee9",
   "metadata": {},
   "outputs": [],
   "source": [
    "person_info['favourite_nums'] = [3,4,3,5]"
   ]
  },
  {
   "cell_type": "code",
   "execution_count": 79,
   "id": "c2d77ec8",
   "metadata": {},
   "outputs": [
    {
     "data": {
      "text/plain": [
       "3"
      ]
     },
     "execution_count": 79,
     "metadata": {},
     "output_type": "execute_result"
    }
   ],
   "source": [
    "len(person_info)"
   ]
  },
  {
   "cell_type": "code",
   "execution_count": 81,
   "id": "ae82cb02",
   "metadata": {},
   "outputs": [],
   "source": [
    "student_info = {\n",
    "    'Agnes' : 68,\n",
    "    'Bobby' : 45,\n",
    "    'Charlie' : {\n",
    "        'age' :33,\n",
    "        'gender' : 'Female'\n",
    "    }\n",
    "}"
   ]
  },
  {
   "cell_type": "code",
   "execution_count": 82,
   "id": "d5168754",
   "metadata": {},
   "outputs": [
    {
     "data": {
      "text/plain": [
       "33"
      ]
     },
     "execution_count": 82,
     "metadata": {},
     "output_type": "execute_result"
    }
   ],
   "source": [
    "student_info['Charlie']['age']"
   ]
  },
  {
   "cell_type": "markdown",
   "id": "b57c53f2",
   "metadata": {},
   "source": [
    "Updating a dictionary\n",
    "\n",
    "First Way\n"
   ]
  },
  {
   "cell_type": "code",
   "execution_count": 83,
   "id": "7a82c447",
   "metadata": {},
   "outputs": [],
   "source": [
    "student_info['David'] = {'age' : 28, 'gender' : 'Male'}"
   ]
  },
  {
   "cell_type": "code",
   "execution_count": 84,
   "id": "c1910af1",
   "metadata": {},
   "outputs": [
    {
     "data": {
      "text/plain": [
       "{'Agnes': 68,\n",
       " 'Bobby': 45,\n",
       " 'Charlie': {'age': 33, 'gender': 'Female'},\n",
       " 'David': {'age': 28, 'gender': 'Male'}}"
      ]
     },
     "execution_count": 84,
     "metadata": {},
     "output_type": "execute_result"
    }
   ],
   "source": [
    "student_info"
   ]
  },
  {
   "cell_type": "markdown",
   "id": "87ab89ae",
   "metadata": {},
   "source": [
    "Second Way (is a method)"
   ]
  },
  {
   "cell_type": "code",
   "execution_count": 85,
   "id": "b7b6e645",
   "metadata": {},
   "outputs": [],
   "source": [
    "student_info.update({'Elaine' : {'age' : 23, 'gender' : 'Non-binary'}})"
   ]
  },
  {
   "cell_type": "code",
   "execution_count": 86,
   "id": "890062e0",
   "metadata": {},
   "outputs": [
    {
     "data": {
      "text/plain": [
       "{'Agnes': 68,\n",
       " 'Bobby': 45,\n",
       " 'Charlie': {'age': 33, 'gender': 'Female'},\n",
       " 'David': {'age': 28, 'gender': 'Male'},\n",
       " 'Elaine': {'age': 23, 'gender': 'Non-binary'}}"
      ]
     },
     "execution_count": 86,
     "metadata": {},
     "output_type": "execute_result"
    }
   ],
   "source": [
    "student_info"
   ]
  },
  {
   "cell_type": "code",
   "execution_count": 87,
   "id": "8035d0ee",
   "metadata": {},
   "outputs": [
    {
     "data": {
      "text/plain": [
       "{'age': 28, 'gender': 'Male'}"
      ]
     },
     "execution_count": 87,
     "metadata": {},
     "output_type": "execute_result"
    }
   ],
   "source": [
    "student_info.pop('David')"
   ]
  },
  {
   "cell_type": "code",
   "execution_count": 88,
   "id": "c0dbb51a",
   "metadata": {},
   "outputs": [
    {
     "data": {
      "text/plain": [
       "{'Agnes': 68,\n",
       " 'Bobby': 45,\n",
       " 'Charlie': {'age': 33, 'gender': 'Female'},\n",
       " 'Elaine': {'age': 23, 'gender': 'Non-binary'}}"
      ]
     },
     "execution_count": 88,
     "metadata": {},
     "output_type": "execute_result"
    }
   ],
   "source": [
    "student_info"
   ]
  },
  {
   "cell_type": "markdown",
   "id": "5795f059",
   "metadata": {},
   "source": [
    "While the `.pop(`) method exists for both `dict()` and `list()` types. It behaves differently in each case."
   ]
  },
  {
   "cell_type": "code",
   "execution_count": null,
   "id": "d97edbdd",
   "metadata": {},
   "outputs": [],
   "source": []
  }
 ],
 "metadata": {
  "kernelspec": {
   "display_name": "Python 3",
   "language": "python",
   "name": "python3"
  },
  "language_info": {
   "codemirror_mode": {
    "name": "ipython",
    "version": 3
   },
   "file_extension": ".py",
   "mimetype": "text/x-python",
   "name": "python",
   "nbconvert_exporter": "python",
   "pygments_lexer": "ipython3",
   "version": "3.8.8"
  },
  "varInspector": {
   "cols": {
    "lenName": 16,
    "lenType": 16,
    "lenVar": 40
   },
   "kernels_config": {
    "python": {
     "delete_cmd_postfix": "",
     "delete_cmd_prefix": "del ",
     "library": "var_list.py",
     "varRefreshCmd": "print(var_dic_list())"
    },
    "r": {
     "delete_cmd_postfix": ") ",
     "delete_cmd_prefix": "rm(",
     "library": "var_list.r",
     "varRefreshCmd": "cat(var_dic_list()) "
    }
   },
   "types_to_exclude": [
    "module",
    "function",
    "builtin_function_or_method",
    "instance",
    "_Feature"
   ],
   "window_display": false
  }
 },
 "nbformat": 4,
 "nbformat_minor": 5
}
